{
 "cells": [
  {
   "cell_type": "code",
   "execution_count": 12,
   "metadata": {},
   "outputs": [
    {
     "data": {
      "text/plain": [
       "['WeightPredictionLinRegModel.joblib']"
      ]
     },
     "execution_count": 12,
     "metadata": {},
     "output_type": "execute_result"
    }
   ],
   "source": [
    "import joblib\n",
    "import numpy as np\n",
    "import pandas as pd\n",
    "import seaborn as sns\n",
    "import scipy as constants\n",
    "from sklearn.model_selection import train_test_split\n",
    "from sklearn.linear_model import LinearRegression\n",
    "\n",
    "data_frame = pd.read_csv(\"../data/weight-height.csv\")\n",
    "data_frame['Weight'] = np.around(data_frame['Weight'] * constants.constants.pound, 1)\n",
    "data_frame['Height'] = np.around(data_frame['Height'] * constants.constants.inch * 100)\n",
    "data_frame['Height'] = data_frame['Height'].astype(np.int64, errors='ignore') \n",
    "#data_frame.head()\n",
    "#data_frame['Gender'].value_counts()\n",
    "#sns.scatterplot('Height', 'Weight', data=data_frame, hue='Gender')\n",
    "data_frame.Gender = data_frame.Gender.map({\"Male\" : 0 , \"Female\":1})\n",
    "\n",
    "X = data_frame[ [\"Gender\", \"Height\"] ]\n",
    "y = data_frame[ [\"Weight\"] ]\n",
    "X_train, X_test, y_train, y_test = train_test_split(X, y, test_size=0.2)\n",
    "\n",
    "lin_reg = LinearRegression()\n",
    "lin_reg.fit(X_train, y_train)\n",
    "\n",
    "lin_reg.score(X_test, y_test)\n",
    "joblib_file = \"WeightPredictionLinRegModel.joblib\"\n",
    "joblib.dump(lin_reg, joblib_file) "
   ]
  },
  {
   "cell_type": "code",
   "execution_count": null,
   "metadata": {},
   "outputs": [],
   "source": []
  }
 ],
 "metadata": {
  "interpreter": {
   "hash": "2db524e06e9f5f4ffedc911c917cb75e12dbc923643829bf417064a77eb14d37"
  },
  "kernelspec": {
   "display_name": "Python 3.8.3 64-bit",
   "name": "python3"
  },
  "language_info": {
   "codemirror_mode": {
    "name": "ipython",
    "version": 3
   },
   "file_extension": ".py",
   "mimetype": "text/x-python",
   "name": "python",
   "nbconvert_exporter": "python",
   "pygments_lexer": "ipython3",
   "version": "3.8.3"
  },
  "orig_nbformat": 4
 },
 "nbformat": 4,
 "nbformat_minor": 2
}
